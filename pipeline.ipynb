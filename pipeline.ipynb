{
 "cells": [
  {
   "cell_type": "code",
   "execution_count": 1,
   "id": "03d5ffa8",
   "metadata": {},
   "outputs": [
    {
     "name": "stdout",
     "output_type": "stream",
     "text": [
      "[('standard_scaler', StandardScaler()), ('classifier', LogisticRegression())]\n",
      "Pipeline(steps=[('standard_scaler', StandardScaler()),\n",
      "                ('classifier', LogisticRegression())])\n",
      "(1000, 20)\n",
      "[[ 0.53048608 -1.96225137  0.71556406 ... -0.81400938 -1.04609615\n",
      "   1.41654715]\n",
      " [ 0.23922683  0.31765134  1.60089373 ... -0.20785808  1.87624893\n",
      "  -1.77356632]\n",
      " [-0.38363213 -0.47110102  0.11334058 ... -0.02490588  1.39409976\n",
      "   0.6282518 ]\n",
      " ...\n",
      " [-1.15427236 -2.24073677 -0.16168188 ... -0.55384373 -0.82087\n",
      "  -0.76556034]\n",
      " [-0.41971492  1.03441538 -0.3371335  ... -0.19274566 -1.32857657\n",
      "   3.42397819]\n",
      " [-0.20672523  0.32801563  3.20941673 ... -1.41844467  1.25906556\n",
      "  -1.52576732]]\n",
      "[1 1 0 0 1 1 0 1 0 1 1 0 1 0 1 0 1 0 0 1 1 1 1 1 0 1 1 1 0 0 0 1 1 1 1 1 1\n",
      " 1 1 0 0 0 1 0 1 1 0 0 0 0 1 0 1 1 1 1 0 0 1 1 1 0 1 0 0 1 0 1 1 1 1 1 1 1\n",
      " 1 0 0 1 0 1 0 0 0 0 1 1 1 0 1 0 0 0 0 1 1 0 1 0 1 1 0 0 1 0 0 0 0 0 0 1 0\n",
      " 0 0 0 0 0 1 1 1 1 1 1 1 0 0 1 0 1 1 1 1 0 1 0 0 0 1 0 0 0 0 1 1 0 0 1 0 1\n",
      " 0 1 0 1 0 0 0 1 1 0 0 0 0 0 1 1 0 1 0 0 0 0 1 0 0 0 0 1 1 1 1 0 1 0 1 1 0\n",
      " 1 1 1 0 0 0 0 0 1 1 1 0 0 1 0 1 1 1 0 1 1 0 0 1 1 1 0 0 1 0 0 1 1 1 1 0 1\n",
      " 0 1 0 1 0 1 0 1 0 0 1 1 0 1 1 0 1 1 0 0 1 1 1 1 0 1 1 1 0 1 1 1 0 1 1 0 0\n",
      " 0 1 1 0 1 1 0 1 1 1 0 0 1 1 0 0 0 1 0 0 0 0 0 1 0 1 0 0 0 1 1 1 1 0 1 0 0\n",
      " 1 0 1 0 1 0 1 0 0 0 1 1 0 0 0 1 1 1 0 1 0 0 0 0 0 1 1 0 0 1 0 0 1 1]\n"
     ]
    }
   ],
   "source": [
    "from sklearn.pipeline import Pipeline\n",
    "from sklearn.preprocessing import StandardScaler\n",
    "from sklearn.linear_model import LogisticRegression\n",
    "steps=[(\"standard_scaler\",StandardScaler()),\n",
    "      (\"classifier\",LogisticRegression())]\n",
    "print(steps)\n",
    "pipe=Pipeline(steps)\n",
    "###visualize pipeline\n",
    "from sklearn import set_config\n",
    "set_config(display=\"diagram\")\n",
    "print(pipe)\n",
    "#creating a dataset\n",
    "from sklearn.datasets import make_classification\n",
    "x,y=make_classification(n_samples=1000)\n",
    "print(x.shape)\n",
    "from sklearn.model_selection import train_test_split\n",
    "x_train,x_test,y_train,y_test=train_test_split(x,y,test_size=0.33,random_state=42)\n",
    "print(x_train)\n",
    "pipe.fit(x_train,y_train)\n",
    "y_pred=pipe.predict(x_test)\n",
    "print(y_pred)"
   ]
  },
  {
   "cell_type": "code",
   "execution_count": 2,
   "id": "3fdf732e",
   "metadata": {},
   "outputs": [
    {
     "data": {
      "text/html": [
       "<style>#sk-d4534ef6-a4e7-4c31-b753-39084f584a75 {color: black;background-color: white;}#sk-d4534ef6-a4e7-4c31-b753-39084f584a75 pre{padding: 0;}#sk-d4534ef6-a4e7-4c31-b753-39084f584a75 div.sk-toggleable {background-color: white;}#sk-d4534ef6-a4e7-4c31-b753-39084f584a75 label.sk-toggleable__label {cursor: pointer;display: block;width: 100%;margin-bottom: 0;padding: 0.3em;box-sizing: border-box;text-align: center;}#sk-d4534ef6-a4e7-4c31-b753-39084f584a75 label.sk-toggleable__label-arrow:before {content: \"▸\";float: left;margin-right: 0.25em;color: #696969;}#sk-d4534ef6-a4e7-4c31-b753-39084f584a75 label.sk-toggleable__label-arrow:hover:before {color: black;}#sk-d4534ef6-a4e7-4c31-b753-39084f584a75 div.sk-estimator:hover label.sk-toggleable__label-arrow:before {color: black;}#sk-d4534ef6-a4e7-4c31-b753-39084f584a75 div.sk-toggleable__content {max-height: 0;max-width: 0;overflow: hidden;text-align: left;background-color: #f0f8ff;}#sk-d4534ef6-a4e7-4c31-b753-39084f584a75 div.sk-toggleable__content pre {margin: 0.2em;color: black;border-radius: 0.25em;background-color: #f0f8ff;}#sk-d4534ef6-a4e7-4c31-b753-39084f584a75 input.sk-toggleable__control:checked~div.sk-toggleable__content {max-height: 200px;max-width: 100%;overflow: auto;}#sk-d4534ef6-a4e7-4c31-b753-39084f584a75 input.sk-toggleable__control:checked~label.sk-toggleable__label-arrow:before {content: \"▾\";}#sk-d4534ef6-a4e7-4c31-b753-39084f584a75 div.sk-estimator input.sk-toggleable__control:checked~label.sk-toggleable__label {background-color: #d4ebff;}#sk-d4534ef6-a4e7-4c31-b753-39084f584a75 div.sk-label input.sk-toggleable__control:checked~label.sk-toggleable__label {background-color: #d4ebff;}#sk-d4534ef6-a4e7-4c31-b753-39084f584a75 input.sk-hidden--visually {border: 0;clip: rect(1px 1px 1px 1px);clip: rect(1px, 1px, 1px, 1px);height: 1px;margin: -1px;overflow: hidden;padding: 0;position: absolute;width: 1px;}#sk-d4534ef6-a4e7-4c31-b753-39084f584a75 div.sk-estimator {font-family: monospace;background-color: #f0f8ff;border: 1px dotted black;border-radius: 0.25em;box-sizing: border-box;margin-bottom: 0.5em;}#sk-d4534ef6-a4e7-4c31-b753-39084f584a75 div.sk-estimator:hover {background-color: #d4ebff;}#sk-d4534ef6-a4e7-4c31-b753-39084f584a75 div.sk-parallel-item::after {content: \"\";width: 100%;border-bottom: 1px solid gray;flex-grow: 1;}#sk-d4534ef6-a4e7-4c31-b753-39084f584a75 div.sk-label:hover label.sk-toggleable__label {background-color: #d4ebff;}#sk-d4534ef6-a4e7-4c31-b753-39084f584a75 div.sk-serial::before {content: \"\";position: absolute;border-left: 1px solid gray;box-sizing: border-box;top: 2em;bottom: 0;left: 50%;}#sk-d4534ef6-a4e7-4c31-b753-39084f584a75 div.sk-serial {display: flex;flex-direction: column;align-items: center;background-color: white;padding-right: 0.2em;padding-left: 0.2em;}#sk-d4534ef6-a4e7-4c31-b753-39084f584a75 div.sk-item {z-index: 1;}#sk-d4534ef6-a4e7-4c31-b753-39084f584a75 div.sk-parallel {display: flex;align-items: stretch;justify-content: center;background-color: white;}#sk-d4534ef6-a4e7-4c31-b753-39084f584a75 div.sk-parallel::before {content: \"\";position: absolute;border-left: 1px solid gray;box-sizing: border-box;top: 2em;bottom: 0;left: 50%;}#sk-d4534ef6-a4e7-4c31-b753-39084f584a75 div.sk-parallel-item {display: flex;flex-direction: column;position: relative;background-color: white;}#sk-d4534ef6-a4e7-4c31-b753-39084f584a75 div.sk-parallel-item:first-child::after {align-self: flex-end;width: 50%;}#sk-d4534ef6-a4e7-4c31-b753-39084f584a75 div.sk-parallel-item:last-child::after {align-self: flex-start;width: 50%;}#sk-d4534ef6-a4e7-4c31-b753-39084f584a75 div.sk-parallel-item:only-child::after {width: 0;}#sk-d4534ef6-a4e7-4c31-b753-39084f584a75 div.sk-dashed-wrapped {border: 1px dashed gray;margin: 0 0.4em 0.5em 0.4em;box-sizing: border-box;padding-bottom: 0.4em;background-color: white;position: relative;}#sk-d4534ef6-a4e7-4c31-b753-39084f584a75 div.sk-label label {font-family: monospace;font-weight: bold;background-color: white;display: inline-block;line-height: 1.2em;}#sk-d4534ef6-a4e7-4c31-b753-39084f584a75 div.sk-label-container {position: relative;z-index: 2;text-align: center;}#sk-d4534ef6-a4e7-4c31-b753-39084f584a75 div.sk-container {/* jupyter's `normalize.less` sets `[hidden] { display: none; }` but bootstrap.min.css set `[hidden] { display: none !important; }` so we also need the `!important` here to be able to override the default hidden behavior on the sphinx rendered scikit-learn.org. See: https://github.com/scikit-learn/scikit-learn/issues/21755 */display: inline-block !important;position: relative;}#sk-d4534ef6-a4e7-4c31-b753-39084f584a75 div.sk-text-repr-fallback {display: none;}</style><div id=\"sk-d4534ef6-a4e7-4c31-b753-39084f584a75\" class=\"sk-top-container\"><div class=\"sk-text-repr-fallback\"><pre>Pipeline(steps=[(&#x27;standard_scaler&#x27;, StandardScaler()),\n",
       "                (&#x27;classifier&#x27;, LogisticRegression())])</pre><b>Please rerun this cell to show the HTML repr or trust the notebook.</b></div><div class=\"sk-container\" hidden><div class=\"sk-item sk-dashed-wrapped\"><div class=\"sk-label-container\"><div class=\"sk-label sk-toggleable\"><input class=\"sk-toggleable__control sk-hidden--visually\" id=\"f4cd44e1-7fa1-442b-a4e8-ef2e5c3cf7b1\" type=\"checkbox\" ><label for=\"f4cd44e1-7fa1-442b-a4e8-ef2e5c3cf7b1\" class=\"sk-toggleable__label sk-toggleable__label-arrow\">Pipeline</label><div class=\"sk-toggleable__content\"><pre>Pipeline(steps=[(&#x27;standard_scaler&#x27;, StandardScaler()),\n",
       "                (&#x27;classifier&#x27;, LogisticRegression())])</pre></div></div></div><div class=\"sk-serial\"><div class=\"sk-item\"><div class=\"sk-estimator sk-toggleable\"><input class=\"sk-toggleable__control sk-hidden--visually\" id=\"8339fa41-7426-46ff-aace-e744f793c011\" type=\"checkbox\" ><label for=\"8339fa41-7426-46ff-aace-e744f793c011\" class=\"sk-toggleable__label sk-toggleable__label-arrow\">StandardScaler</label><div class=\"sk-toggleable__content\"><pre>StandardScaler()</pre></div></div></div><div class=\"sk-item\"><div class=\"sk-estimator sk-toggleable\"><input class=\"sk-toggleable__control sk-hidden--visually\" id=\"b9560b7f-7198-414a-b295-1c122cd529e0\" type=\"checkbox\" ><label for=\"b9560b7f-7198-414a-b295-1c122cd529e0\" class=\"sk-toggleable__label sk-toggleable__label-arrow\">LogisticRegression</label><div class=\"sk-toggleable__content\"><pre>LogisticRegression()</pre></div></div></div></div></div></div></div>"
      ],
      "text/plain": [
       "Pipeline(steps=[('standard_scaler', StandardScaler()),\n",
       "                ('classifier', LogisticRegression())])"
      ]
     },
     "execution_count": 2,
     "metadata": {},
     "output_type": "execute_result"
    }
   ],
   "source": [
    "pipe"
   ]
  },
  {
   "cell_type": "code",
   "execution_count": null,
   "id": "990d7991",
   "metadata": {},
   "outputs": [],
   "source": []
  }
 ],
 "metadata": {
  "kernelspec": {
   "display_name": "Python 3 (ipykernel)",
   "language": "python",
   "name": "python3"
  },
  "language_info": {
   "codemirror_mode": {
    "name": "ipython",
    "version": 3
   },
   "file_extension": ".py",
   "mimetype": "text/x-python",
   "name": "python",
   "nbconvert_exporter": "python",
   "pygments_lexer": "ipython3",
   "version": "3.10.2"
  }
 },
 "nbformat": 4,
 "nbformat_minor": 5
}
